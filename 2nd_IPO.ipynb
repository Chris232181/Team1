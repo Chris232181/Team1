{
 "cells": [
  {
   "cell_type": "code",
   "execution_count": 139,
   "metadata": {},
   "outputs": [],
   "source": [
    "# initial imports of libraries\n",
    "import os\n",
    "import pandas as pd\n",
    "import matplotlib.pyplot as plt\n",
    "import hvplot.pandas\n",
    "import panel as pn\n",
    "import plotly.express as px\n",
    "from pathlib import Path\n",
    "import quandl\n",
    "import numpy as np\n",
    "import hvplot.pandas\n",
    "from datetime import datetime, timedelta\n",
    "import pandas_datareader as pdr"
   ]
  },
  {
   "cell_type": "code",
   "execution_count": 140,
   "metadata": {},
   "outputs": [
    {
     "data": {
      "text/html": [
       "<div>\n",
       "<style scoped>\n",
       "    .dataframe tbody tr th:only-of-type {\n",
       "        vertical-align: middle;\n",
       "    }\n",
       "\n",
       "    .dataframe tbody tr th {\n",
       "        vertical-align: top;\n",
       "    }\n",
       "\n",
       "    .dataframe thead th {\n",
       "        text-align: right;\n",
       "    }\n",
       "</style>\n",
       "<table border=\"1\" class=\"dataframe\">\n",
       "  <thead>\n",
       "    <tr style=\"text-align: right;\">\n",
       "      <th></th>\n",
       "      <th>Value</th>\n",
       "    </tr>\n",
       "    <tr>\n",
       "      <th>Date</th>\n",
       "      <th></th>\n",
       "    </tr>\n",
       "  </thead>\n",
       "  <tbody>\n",
       "    <tr>\n",
       "      <th>1871-01-01</th>\n",
       "      <td>11.10</td>\n",
       "    </tr>\n",
       "    <tr>\n",
       "      <th>1871-02-01</th>\n",
       "      <td>11.25</td>\n",
       "    </tr>\n",
       "    <tr>\n",
       "      <th>1871-03-01</th>\n",
       "      <td>11.52</td>\n",
       "    </tr>\n",
       "    <tr>\n",
       "      <th>1871-04-01</th>\n",
       "      <td>11.85</td>\n",
       "    </tr>\n",
       "    <tr>\n",
       "      <th>1871-05-01</th>\n",
       "      <td>12.15</td>\n",
       "    </tr>\n",
       "  </tbody>\n",
       "</table>\n",
       "</div>"
      ],
      "text/plain": [
       "            Value\n",
       "Date             \n",
       "1871-01-01  11.10\n",
       "1871-02-01  11.25\n",
       "1871-03-01  11.52\n",
       "1871-04-01  11.85\n",
       "1871-05-01  12.15"
      ]
     },
     "execution_count": 140,
     "metadata": {},
     "output_type": "execute_result"
    }
   ],
   "source": [
    "# pull S&P data over the last 5 years (9/2014-9/2019) from Quandl of libraries\n",
    "data_SP = quandl.get(\"MULTPL/SP500_PE_RATIO_MONTH\")\n",
    "data_SP.head()"
   ]
  },
  {
   "cell_type": "code",
   "execution_count": 141,
   "metadata": {},
   "outputs": [
    {
     "data": {
      "text/html": [
       "<div>\n",
       "<style scoped>\n",
       "    .dataframe tbody tr th:only-of-type {\n",
       "        vertical-align: middle;\n",
       "    }\n",
       "\n",
       "    .dataframe tbody tr th {\n",
       "        vertical-align: top;\n",
       "    }\n",
       "\n",
       "    .dataframe thead th {\n",
       "        text-align: right;\n",
       "    }\n",
       "</style>\n",
       "<table border=\"1\" class=\"dataframe\">\n",
       "  <thead>\n",
       "    <tr style=\"text-align: right;\">\n",
       "      <th></th>\n",
       "      <th>Value</th>\n",
       "    </tr>\n",
       "    <tr>\n",
       "      <th>Date</th>\n",
       "      <th></th>\n",
       "    </tr>\n",
       "  </thead>\n",
       "  <tbody>\n",
       "    <tr>\n",
       "      <th>2019-10-01</th>\n",
       "      <td>21.88</td>\n",
       "    </tr>\n",
       "    <tr>\n",
       "      <th>2019-09-01</th>\n",
       "      <td>21.63</td>\n",
       "    </tr>\n",
       "    <tr>\n",
       "      <th>2019-08-01</th>\n",
       "      <td>21.46</td>\n",
       "    </tr>\n",
       "    <tr>\n",
       "      <th>2019-07-01</th>\n",
       "      <td>22.29</td>\n",
       "    </tr>\n",
       "    <tr>\n",
       "      <th>2019-06-01</th>\n",
       "      <td>21.51</td>\n",
       "    </tr>\n",
       "  </tbody>\n",
       "</table>\n",
       "</div>"
      ],
      "text/plain": [
       "            Value\n",
       "Date             \n",
       "2019-10-01  21.88\n",
       "2019-09-01  21.63\n",
       "2019-08-01  21.46\n",
       "2019-07-01  22.29\n",
       "2019-06-01  21.51"
      ]
     },
     "execution_count": 141,
     "metadata": {},
     "output_type": "execute_result"
    }
   ],
   "source": [
    "# sort values\n",
    "data_SP.sort_values('Date',ascending=False).head()"
   ]
  },
  {
   "cell_type": "code",
   "execution_count": 142,
   "metadata": {},
   "outputs": [],
   "source": [
    "data_SP.loc['2014-01-01':'2019-09-30'].head()\n",
    "SPratio14_19 = data_SP.loc['2014-01-01':'2019-09-30']"
   ]
  },
  {
   "cell_type": "code",
   "execution_count": 143,
   "metadata": {},
   "outputs": [
    {
     "data": {
      "application/vnd.holoviews_exec.v0+json": "",
      "text/html": [
       "<div id='1652' style='display: table; margin: 0 auto;'>\n",
       "\n",
       "\n",
       "\n",
       "\n",
       "\n",
       "  <div class=\"bk-root\" id=\"34754f9d-cf0c-438f-85e0-5cdaa2b9f468\" data-root-id=\"1652\"></div>\n",
       "</div>\n",
       "<script type=\"application/javascript\">(function(root) {\n",
       "  function embed_document(root) {\n",
       "    \n",
       "  var docs_json = {\"bdf84741-0a4e-45b1-9441-4614387924a7\":{\"roots\":{\"references\":[{\"attributes\":{\"below\":[{\"id\":\"1661\",\"type\":\"DatetimeAxis\"}],\"center\":[{\"id\":\"1665\",\"type\":\"Grid\"},{\"id\":\"1670\",\"type\":\"Grid\"}],\"left\":[{\"id\":\"1666\",\"type\":\"LinearAxis\"}],\"margin\":null,\"min_border_bottom\":10,\"min_border_left\":10,\"min_border_right\":10,\"min_border_top\":10,\"plot_height\":300,\"plot_width\":700,\"renderers\":[{\"id\":\"1689\",\"type\":\"GlyphRenderer\"}],\"sizing_mode\":\"fixed\",\"title\":{\"id\":\"1653\",\"type\":\"Title\"},\"toolbar\":{\"id\":\"1676\",\"type\":\"Toolbar\"},\"x_range\":{\"id\":\"1649\",\"type\":\"Range1d\"},\"x_scale\":{\"id\":\"1657\",\"type\":\"LinearScale\"},\"y_range\":{\"id\":\"1650\",\"type\":\"Range1d\"},\"y_scale\":{\"id\":\"1659\",\"type\":\"LinearScale\"}},\"id\":\"1652\",\"subtype\":\"Figure\",\"type\":\"Plot\"},{\"attributes\":{\"callback\":null,\"renderers\":[{\"id\":\"1689\",\"type\":\"GlyphRenderer\"}],\"tags\":[\"hv_created\"],\"tooltips\":[[\"Date\",\"@{Date_dt_strings}\"],[\"Value\",\"@{Value}\"]]},\"id\":\"1651\",\"type\":\"HoverTool\"},{\"attributes\":{\"data_source\":{\"id\":\"1683\",\"type\":\"ColumnDataSource\"},\"glyph\":{\"id\":\"1686\",\"type\":\"Line\"},\"hover_glyph\":null,\"muted_glyph\":{\"id\":\"1688\",\"type\":\"Line\"},\"nonselection_glyph\":{\"id\":\"1687\",\"type\":\"Line\"},\"selection_glyph\":null,\"view\":{\"id\":\"1690\",\"type\":\"CDSView\"}},\"id\":\"1689\",\"type\":\"GlyphRenderer\"},{\"attributes\":{},\"id\":\"1693\",\"type\":\"BasicTickFormatter\"},{\"attributes\":{\"source\":{\"id\":\"1683\",\"type\":\"ColumnDataSource\"}},\"id\":\"1690\",\"type\":\"CDSView\"},{\"attributes\":{\"days\":[1,4,7,10,13,16,19,22,25,28]},\"id\":\"1705\",\"type\":\"DaysTicker\"},{\"attributes\":{},\"id\":\"1691\",\"type\":\"DatetimeTickFormatter\"},{\"attributes\":{\"callback\":null,\"data\":{\"Date\":{\"__ndarray__\":\"AABAmLE0dEIAAIDqqz50QgAAgAuvR3RCAADAXalRdEIAAEBKUVt0QgAAgJxLZXRCAAAAifNudEIAAEDb7Xh0QgAAgC3ognRCAAAAGpCMdEIAAEBsipZ0QgAAwFgyoHRCAAAAqyyqdEIAAED9JrR0QgAAQB4qvXRCAACAcCTHdEIAAABdzNB0QgAAQK/G2nRCAADAm27kdEIAAADuaO50QgAAQEBj+HRCAADALAsCdUIAAAB/BQx1QgAAgGutFXVCAADAvacfdUIAAAAQoil1QgAAwJb3MnVCAAAA6fE8dUIAAIDVmUZ1QgAAwCeUUHVCAABAFDxadUIAAIBmNmR1QgAAwLgwbnVCAABApdh3dUIAAID30oF1QgAAAOR6i3VCAABANnWVdUIAAICIb591QgAAgKlyqHVCAADA+2yydUIAAEDoFLx1QgAAgDoPxnVCAAAAJ7fPdUIAAEB5sdl1QgAAgMur43VCAAAAuFPtdUIAAEAKTvd1QgAAwPb1AHZCAAAASfAKdkIAAECb6hR2QgAAQLztHXZCAACADugndkIAAAD7jzF2QgAAQE2KO3ZCAADAOTJFdkIAAACMLE92QgAAQN4mWXZCAADAys5idkIAAAAdyWx2QgAAgAlxdnZCAADAW2uAdkIAAACuZYp2QgAAAM9ok3ZCAABAIWOddkIAAMANC6d2QgAAQPqysHZCAAAAYAWxdkIAAIBMrbp2QgAAwJ6nxHZCAAAA8aHOdkI=\",\"dtype\":\"float64\",\"shape\":[70]},\"Date_dt_strings\":[\"2014-01-01 00:00:00\",\"2014-02-01 00:00:00\",\"2014-03-01 00:00:00\",\"2014-04-01 00:00:00\",\"2014-05-01 00:00:00\",\"2014-06-01 00:00:00\",\"2014-07-01 00:00:00\",\"2014-08-01 00:00:00\",\"2014-09-01 00:00:00\",\"2014-10-01 00:00:00\",\"2014-11-01 00:00:00\",\"2014-12-01 00:00:00\",\"2015-01-01 00:00:00\",\"2015-02-01 00:00:00\",\"2015-03-01 00:00:00\",\"2015-04-01 00:00:00\",\"2015-05-01 00:00:00\",\"2015-06-01 00:00:00\",\"2015-07-01 00:00:00\",\"2015-08-01 00:00:00\",\"2015-09-01 00:00:00\",\"2015-10-01 00:00:00\",\"2015-11-01 00:00:00\",\"2015-12-01 00:00:00\",\"2016-01-01 00:00:00\",\"2016-02-01 00:00:00\",\"2016-03-01 00:00:00\",\"2016-04-01 00:00:00\",\"2016-05-01 00:00:00\",\"2016-06-01 00:00:00\",\"2016-07-01 00:00:00\",\"2016-08-01 00:00:00\",\"2016-09-01 00:00:00\",\"2016-10-01 00:00:00\",\"2016-11-01 00:00:00\",\"2016-12-01 00:00:00\",\"2017-01-01 00:00:00\",\"2017-02-01 00:00:00\",\"2017-03-01 00:00:00\",\"2017-04-01 00:00:00\",\"2017-05-01 00:00:00\",\"2017-06-01 00:00:00\",\"2017-07-01 00:00:00\",\"2017-08-01 00:00:00\",\"2017-09-01 00:00:00\",\"2017-10-01 00:00:00\",\"2017-11-01 00:00:00\",\"2017-12-01 00:00:00\",\"2018-01-01 00:00:00\",\"2018-02-01 00:00:00\",\"2018-03-01 00:00:00\",\"2018-04-01 00:00:00\",\"2018-05-01 00:00:00\",\"2018-06-01 00:00:00\",\"2018-07-01 00:00:00\",\"2018-08-01 00:00:00\",\"2018-09-01 00:00:00\",\"2018-10-01 00:00:00\",\"2018-11-01 00:00:00\",\"2018-12-01 00:00:00\",\"2019-01-01 00:00:00\",\"2019-02-01 00:00:00\",\"2019-03-01 00:00:00\",\"2019-04-01 00:00:00\",\"2019-05-01 00:00:00\",\"2019-05-31 00:00:00\",\"2019-06-01 00:00:00\",\"2019-07-01 00:00:00\",\"2019-08-01 00:00:00\",\"2019-09-01 00:00:00\"],\"Value\":{\"__ndarray__\":\"ZmZmZmYmMkCPwvUoXA8yQHsUrkfhejJAmpmZmZlZMkD2KFyPwnUyQOF6FK5H4TJA9ihcj8L1MkCuR+F6FK4yQI/C9ShczzJAAAAAAACAMkAAAAAAAMAzQBSuR+F6FDRAhetRuB4FNECF61G4HsU0QPYoXI/C9TRA7FG4HoVrNUDsUbgehes1QB+F61G4HjZAZmZmZmZmNkBmZmZmZiY2QDMzMzMzczVArkfhehSuNkDsUbgehas3QD0K16NwvTdArkfhehQuNkCF61G4HgU2QKRwPQrXYzdAuB6F61H4N0CPwvUoXM83QLgehetR+DdAhetRuB6FOEBSuB6F65E4QLgehetRODhAUrgeheuRN0CamZmZmVk3QMP1KFyPwjdA16NwPQqXN0CuR+F6FK43QJqZmZmZmTdAPQrXo3A9N0CPwvUoXE83QGZmZmZmZjdAXI/C9ShcN0ApXI/C9Sg3QEjhehSuRzdA7FG4HoWrN0CPwvUoXM83QAAAAAAAQDhAuB6F61H4OEBSuB6F69E3QClcj8L1aDdASOF6FK6HNkA9CtejcH02QD0K16NwfTZAFK5H4XpUNkAfhetRuF42QAAAAAAAQDZAAAAAAABANUDsUbgehas0QKRwPQrXYzNAmpmZmZmZM0CamZmZmZk0QFyPwvUo3DRAXI/C9SicNUA9CtejcD01QK5H4XoUbjRAw/UoXI+CNUAK16NwPUo2QPYoXI/CdTVA4XoUrkehNUA=\",\"dtype\":\"float64\",\"shape\":[70]}},\"selected\":{\"id\":\"1684\",\"type\":\"Selection\"},\"selection_policy\":{\"id\":\"1713\",\"type\":\"UnionRenderers\"}},\"id\":\"1683\",\"type\":\"ColumnDataSource\"},{\"attributes\":{\"days\":[1,2,3,4,5,6,7,8,9,10,11,12,13,14,15,16,17,18,19,20,21,22,23,24,25,26,27,28,29,30,31]},\"id\":\"1704\",\"type\":\"DaysTicker\"},{\"attributes\":{\"months\":[0,4,8]},\"id\":\"1710\",\"type\":\"MonthsTicker\"},{\"attributes\":{},\"id\":\"1713\",\"type\":\"UnionRenderers\"},{\"attributes\":{\"axis_label\":\"Value\",\"bounds\":\"auto\",\"formatter\":{\"id\":\"1693\",\"type\":\"BasicTickFormatter\"},\"major_label_orientation\":\"horizontal\",\"ticker\":{\"id\":\"1667\",\"type\":\"BasicTicker\"}},\"id\":\"1666\",\"type\":\"LinearAxis\"},{\"attributes\":{},\"id\":\"1684\",\"type\":\"Selection\"},{\"attributes\":{\"axis_label\":\"Date\",\"bounds\":\"auto\",\"formatter\":{\"id\":\"1691\",\"type\":\"DatetimeTickFormatter\"},\"major_label_orientation\":\"horizontal\",\"ticker\":{\"id\":\"1662\",\"type\":\"DatetimeTicker\"}},\"id\":\"1661\",\"type\":\"DatetimeAxis\"},{\"attributes\":{},\"id\":\"1667\",\"type\":\"BasicTicker\"},{\"attributes\":{\"mantissas\":[1,2,5],\"max_interval\":500.0,\"num_minor_ticks\":0},\"id\":\"1701\",\"type\":\"AdaptiveTicker\"},{\"attributes\":{\"num_minor_ticks\":5,\"tickers\":[{\"id\":\"1701\",\"type\":\"AdaptiveTicker\"},{\"id\":\"1702\",\"type\":\"AdaptiveTicker\"},{\"id\":\"1703\",\"type\":\"AdaptiveTicker\"},{\"id\":\"1704\",\"type\":\"DaysTicker\"},{\"id\":\"1705\",\"type\":\"DaysTicker\"},{\"id\":\"1706\",\"type\":\"DaysTicker\"},{\"id\":\"1707\",\"type\":\"DaysTicker\"},{\"id\":\"1708\",\"type\":\"MonthsTicker\"},{\"id\":\"1709\",\"type\":\"MonthsTicker\"},{\"id\":\"1710\",\"type\":\"MonthsTicker\"},{\"id\":\"1711\",\"type\":\"MonthsTicker\"},{\"id\":\"1712\",\"type\":\"YearsTicker\"}]},\"id\":\"1662\",\"type\":\"DatetimeTicker\"},{\"attributes\":{\"grid_line_color\":null,\"ticker\":{\"id\":\"1662\",\"type\":\"DatetimeTicker\"}},\"id\":\"1665\",\"type\":\"Grid\"},{\"attributes\":{\"dimension\":1,\"grid_line_color\":null,\"ticker\":{\"id\":\"1667\",\"type\":\"BasicTicker\"}},\"id\":\"1670\",\"type\":\"Grid\"},{\"attributes\":{\"callback\":null,\"end\":1567296000000.0,\"reset_end\":1567296000000.0,\"reset_start\":1388534400000.0,\"start\":1388534400000.0,\"tags\":[[[\"Date\",\"Date\",null]]]},\"id\":\"1649\",\"type\":\"Range1d\"},{\"attributes\":{\"days\":[1,8,15,22]},\"id\":\"1706\",\"type\":\"DaysTicker\"},{\"attributes\":{\"months\":[0,6]},\"id\":\"1711\",\"type\":\"MonthsTicker\"},{\"attributes\":{\"months\":[0,1,2,3,4,5,6,7,8,9,10,11]},\"id\":\"1708\",\"type\":\"MonthsTicker\"},{\"attributes\":{\"line_color\":\"#1f77b4\",\"line_width\":2,\"x\":{\"field\":\"Date\"},\"y\":{\"field\":\"Value\"}},\"id\":\"1686\",\"type\":\"Line\"},{\"attributes\":{\"months\":[0,2,4,6,8,10]},\"id\":\"1709\",\"type\":\"MonthsTicker\"},{\"attributes\":{},\"id\":\"1671\",\"type\":\"SaveTool\"},{\"attributes\":{},\"id\":\"1672\",\"type\":\"PanTool\"},{\"attributes\":{\"callback\":null,\"end\":24.97,\"reset_end\":24.97,\"reset_start\":18.06,\"start\":18.06,\"tags\":[[[\"Value\",\"Value\",null]]]},\"id\":\"1650\",\"type\":\"Range1d\"},{\"attributes\":{},\"id\":\"1673\",\"type\":\"WheelZoomTool\"},{\"attributes\":{},\"id\":\"1659\",\"type\":\"LinearScale\"},{\"attributes\":{\"overlay\":{\"id\":\"1700\",\"type\":\"BoxAnnotation\"}},\"id\":\"1674\",\"type\":\"BoxZoomTool\"},{\"attributes\":{\"bottom_units\":\"screen\",\"fill_alpha\":{\"value\":0.5},\"fill_color\":{\"value\":\"lightgrey\"},\"left_units\":\"screen\",\"level\":\"overlay\",\"line_alpha\":{\"value\":1.0},\"line_color\":{\"value\":\"black\"},\"line_dash\":[4,4],\"line_width\":{\"value\":2},\"render_mode\":\"css\",\"right_units\":\"screen\",\"top_units\":\"screen\"},\"id\":\"1700\",\"type\":\"BoxAnnotation\"},{\"attributes\":{},\"id\":\"1675\",\"type\":\"ResetTool\"},{\"attributes\":{\"text\":\"\",\"text_color\":{\"value\":\"black\"},\"text_font_size\":{\"value\":\"12pt\"}},\"id\":\"1653\",\"type\":\"Title\"},{\"attributes\":{},\"id\":\"1657\",\"type\":\"LinearScale\"},{\"attributes\":{\"active_drag\":\"auto\",\"active_inspect\":\"auto\",\"active_multi\":null,\"active_scroll\":\"auto\",\"active_tap\":\"auto\",\"tools\":[{\"id\":\"1651\",\"type\":\"HoverTool\"},{\"id\":\"1671\",\"type\":\"SaveTool\"},{\"id\":\"1672\",\"type\":\"PanTool\"},{\"id\":\"1673\",\"type\":\"WheelZoomTool\"},{\"id\":\"1674\",\"type\":\"BoxZoomTool\"},{\"id\":\"1675\",\"type\":\"ResetTool\"}]},\"id\":\"1676\",\"type\":\"Toolbar\"},{\"attributes\":{},\"id\":\"1712\",\"type\":\"YearsTicker\"},{\"attributes\":{\"base\":60,\"mantissas\":[1,2,5,10,15,20,30],\"max_interval\":1800000.0,\"min_interval\":1000.0,\"num_minor_ticks\":0},\"id\":\"1702\",\"type\":\"AdaptiveTicker\"},{\"attributes\":{\"line_alpha\":0.1,\"line_color\":\"#1f77b4\",\"line_width\":2,\"x\":{\"field\":\"Date\"},\"y\":{\"field\":\"Value\"}},\"id\":\"1687\",\"type\":\"Line\"},{\"attributes\":{\"days\":[1,15]},\"id\":\"1707\",\"type\":\"DaysTicker\"},{\"attributes\":{\"base\":24,\"mantissas\":[1,2,4,6,8,12],\"max_interval\":43200000.0,\"min_interval\":3600000.0,\"num_minor_ticks\":0},\"id\":\"1703\",\"type\":\"AdaptiveTicker\"},{\"attributes\":{\"line_alpha\":0.2,\"line_color\":\"#1f77b4\",\"line_width\":2,\"x\":{\"field\":\"Date\"},\"y\":{\"field\":\"Value\"}},\"id\":\"1688\",\"type\":\"Line\"}],\"root_ids\":[\"1652\"]},\"title\":\"Bokeh Application\",\"version\":\"1.2.0\"}};\n",
       "  var render_items = [{\"docid\":\"bdf84741-0a4e-45b1-9441-4614387924a7\",\"roots\":{\"1652\":\"34754f9d-cf0c-438f-85e0-5cdaa2b9f468\"}}];\n",
       "  root.Bokeh.embed.embed_items_notebook(docs_json, render_items);\n",
       "\n",
       "  }\n",
       "  if (root.Bokeh !== undefined) {\n",
       "    embed_document(root);\n",
       "  } else {\n",
       "    var attempts = 0;\n",
       "    var timer = setInterval(function(root) {\n",
       "      if (root.Bokeh !== undefined) {\n",
       "        embed_document(root);\n",
       "        clearInterval(timer);\n",
       "      }\n",
       "      attempts++;\n",
       "      if (attempts > 100) {\n",
       "        console.log(\"Bokeh: ERROR: Unable to run BokehJS code because BokehJS library is missing\");\n",
       "        clearInterval(timer);\n",
       "      }\n",
       "    }, 10, root)\n",
       "  }\n",
       "})(window);</script>"
      ],
      "text/plain": [
       ":Curve   [Date]   (Value)"
      ]
     },
     "execution_count": 143,
     "metadata": {
      "application/vnd.holoviews_exec.v0+json": {
       "id": "1652"
      }
     },
     "output_type": "execute_result"
    }
   ],
   "source": [
    "SPratio14_19.hvplot()\n"
   ]
  },
  {
   "cell_type": "code",
   "execution_count": 35,
   "metadata": {},
   "outputs": [],
   "source": [
    "# reading in the IPO excel file, Pandas will use the first row as the header"
   ]
  },
  {
   "cell_type": "code",
   "execution_count": 117,
   "metadata": {},
   "outputs": [
    {
     "data": {
      "text/html": [
       "<div>\n",
       "<style scoped>\n",
       "    .dataframe tbody tr th:only-of-type {\n",
       "        vertical-align: middle;\n",
       "    }\n",
       "\n",
       "    .dataframe tbody tr th {\n",
       "        vertical-align: top;\n",
       "    }\n",
       "\n",
       "    .dataframe thead th {\n",
       "        text-align: right;\n",
       "    }\n",
       "</style>\n",
       "<table border=\"1\" class=\"dataframe\">\n",
       "  <thead>\n",
       "    <tr style=\"text-align: right;\">\n",
       "      <th></th>\n",
       "      <th>Company Name</th>\n",
       "      <th>Ticker</th>\n",
       "      <th>Market</th>\n",
       "      <th>Priced Date</th>\n",
       "      <th>Price</th>\n",
       "      <th>Shares</th>\n",
       "      <th>Deal Status</th>\n",
       "    </tr>\n",
       "  </thead>\n",
       "  <tbody>\n",
       "    <tr>\n",
       "      <th>0</th>\n",
       "      <td>OPORTUN FINANCIAL C</td>\n",
       "      <td>OPRT</td>\n",
       "      <td>NASDAQ Global</td>\n",
       "      <td>2019-09-26</td>\n",
       "      <td>15.0</td>\n",
       "      <td>6250000.0</td>\n",
       "      <td>Priced</td>\n",
       "    </tr>\n",
       "    <tr>\n",
       "      <th>1</th>\n",
       "      <td>PELOTON INTERACTIVE</td>\n",
       "      <td>PTON</td>\n",
       "      <td>NASDAQ Global Select</td>\n",
       "      <td>2019-09-26</td>\n",
       "      <td>29.0</td>\n",
       "      <td>40000000.0</td>\n",
       "      <td>Priced</td>\n",
       "    </tr>\n",
       "    <tr>\n",
       "      <th>2</th>\n",
       "      <td>DATADOG, INC.</td>\n",
       "      <td>DDOG</td>\n",
       "      <td>NASDAQ Global Select</td>\n",
       "      <td>2019-09-19</td>\n",
       "      <td>27.0</td>\n",
       "      <td>24000000.0</td>\n",
       "      <td>Priced</td>\n",
       "    </tr>\n",
       "    <tr>\n",
       "      <th>3</th>\n",
       "      <td>EXAGEN INC.</td>\n",
       "      <td>XGN</td>\n",
       "      <td>NASDAQ Global</td>\n",
       "      <td>2019-09-19</td>\n",
       "      <td>14.0</td>\n",
       "      <td>3600000.0</td>\n",
       "      <td>Priced</td>\n",
       "    </tr>\n",
       "    <tr>\n",
       "      <th>4</th>\n",
       "      <td>PING IDENTITY HOLDI</td>\n",
       "      <td>PING</td>\n",
       "      <td>NYSE</td>\n",
       "      <td>2019-09-19</td>\n",
       "      <td>15.0</td>\n",
       "      <td>12500000.0</td>\n",
       "      <td>Priced</td>\n",
       "    </tr>\n",
       "  </tbody>\n",
       "</table>\n",
       "</div>"
      ],
      "text/plain": [
       "          Company Name Ticker                Market Priced Date  Price  \\\n",
       "0  OPORTUN FINANCIAL C   OPRT         NASDAQ Global  2019-09-26   15.0   \n",
       "1  PELOTON INTERACTIVE   PTON  NASDAQ Global Select  2019-09-26   29.0   \n",
       "2        DATADOG, INC.   DDOG  NASDAQ Global Select  2019-09-19   27.0   \n",
       "3          EXAGEN INC.    XGN         NASDAQ Global  2019-09-19   14.0   \n",
       "4  PING IDENTITY HOLDI   PING                  NYSE  2019-09-19   15.0   \n",
       "\n",
       "       Shares Deal Status  \n",
       "0   6250000.0      Priced  \n",
       "1  40000000.0      Priced  \n",
       "2  24000000.0      Priced  \n",
       "3   3600000.0      Priced  \n",
       "4  12500000.0      Priced  "
      ]
     },
     "execution_count": 117,
     "metadata": {},
     "output_type": "execute_result"
    }
   ],
   "source": [
    "# reading in the IPO excel file, Pandas will use the first row as the header\n",
    "csvpath = Path(\"IPO_Data_9.2014-9.2019.xlsx\")\n",
    "IPO_data = pd.read_excel(csvpath)\n",
    "IPO_data.head()"
   ]
  },
  {
   "cell_type": "code",
   "execution_count": 118,
   "metadata": {},
   "outputs": [
    {
     "data": {
      "text/plain": [
       "Company Name            object\n",
       "Ticker                  object\n",
       "Market                  object\n",
       "Priced Date     datetime64[ns]\n",
       "Price                  float64\n",
       "Shares                 float64\n",
       "Deal Status             object\n",
       "dtype: object"
      ]
     },
     "execution_count": 118,
     "metadata": {},
     "output_type": "execute_result"
    }
   ],
   "source": [
    "# identifying datatypes and converting to desired datatypes\n",
    "IPO_data.dtypes"
   ]
  },
  {
   "cell_type": "code",
   "execution_count": 119,
   "metadata": {},
   "outputs": [
    {
     "data": {
      "text/html": [
       "<div>\n",
       "<style scoped>\n",
       "    .dataframe tbody tr th:only-of-type {\n",
       "        vertical-align: middle;\n",
       "    }\n",
       "\n",
       "    .dataframe tbody tr th {\n",
       "        vertical-align: top;\n",
       "    }\n",
       "\n",
       "    .dataframe thead th {\n",
       "        text-align: right;\n",
       "    }\n",
       "</style>\n",
       "<table border=\"1\" class=\"dataframe\">\n",
       "  <thead>\n",
       "    <tr style=\"text-align: right;\">\n",
       "      <th></th>\n",
       "      <th>Company Name</th>\n",
       "      <th>Ticker</th>\n",
       "      <th>Market</th>\n",
       "      <th>Priced Date</th>\n",
       "      <th>Price</th>\n",
       "      <th>Shares</th>\n",
       "      <th>Deal Status</th>\n",
       "    </tr>\n",
       "  </thead>\n",
       "  <tbody>\n",
       "    <tr>\n",
       "      <th>1904</th>\n",
       "      <td>CHESAPEAKE OILFIELD</td>\n",
       "      <td>NaN</td>\n",
       "      <td>NYSE</td>\n",
       "      <td>2014-10-24</td>\n",
       "      <td>NaN</td>\n",
       "      <td>NaN</td>\n",
       "      <td>Withdrawn</td>\n",
       "    </tr>\n",
       "    <tr>\n",
       "      <th>1905</th>\n",
       "      <td>VIAMET PHARMACEUTIC</td>\n",
       "      <td>NaN</td>\n",
       "      <td>NASDAQ</td>\n",
       "      <td>2014-10-20</td>\n",
       "      <td>NaN</td>\n",
       "      <td>NaN</td>\n",
       "      <td>Withdrawn</td>\n",
       "    </tr>\n",
       "    <tr>\n",
       "      <th>1906</th>\n",
       "      <td>SIMPLE PRODUCTS CORP</td>\n",
       "      <td>NaN</td>\n",
       "      <td>OTCBB</td>\n",
       "      <td>2014-10-17</td>\n",
       "      <td>2.00</td>\n",
       "      <td>1875000.0</td>\n",
       "      <td>Withdrawn</td>\n",
       "    </tr>\n",
       "    <tr>\n",
       "      <th>1907</th>\n",
       "      <td>DANCE BIOPHARM INC.</td>\n",
       "      <td>NaN</td>\n",
       "      <td>NASDAQ Small Cap</td>\n",
       "      <td>2014-10-16</td>\n",
       "      <td>NaN</td>\n",
       "      <td>NaN</td>\n",
       "      <td>Withdrawn</td>\n",
       "    </tr>\n",
       "    <tr>\n",
       "      <th>1908</th>\n",
       "      <td>NATFRESH BEVERAGES</td>\n",
       "      <td>NaN</td>\n",
       "      <td>OTCBB</td>\n",
       "      <td>2014-10-15</td>\n",
       "      <td>0.65</td>\n",
       "      <td>18147741.0</td>\n",
       "      <td>Withdrawn</td>\n",
       "    </tr>\n",
       "  </tbody>\n",
       "</table>\n",
       "</div>"
      ],
      "text/plain": [
       "              Company Name Ticker            Market Priced Date  Price  \\\n",
       "1904   CHESAPEAKE OILFIELD    NaN              NYSE  2014-10-24    NaN   \n",
       "1905   VIAMET PHARMACEUTIC    NaN            NASDAQ  2014-10-20    NaN   \n",
       "1906  SIMPLE PRODUCTS CORP    NaN             OTCBB  2014-10-17   2.00   \n",
       "1907   DANCE BIOPHARM INC.    NaN  NASDAQ Small Cap  2014-10-16    NaN   \n",
       "1908    NATFRESH BEVERAGES    NaN             OTCBB  2014-10-15   0.65   \n",
       "\n",
       "          Shares Deal Status  \n",
       "1904         NaN   Withdrawn  \n",
       "1905         NaN   Withdrawn  \n",
       "1906   1875000.0   Withdrawn  \n",
       "1907         NaN   Withdrawn  \n",
       "1908  18147741.0   Withdrawn  "
      ]
     },
     "execution_count": 119,
     "metadata": {},
     "output_type": "execute_result"
    }
   ],
   "source": [
    "IPO_data.tail()\n"
   ]
  },
  {
   "cell_type": "code",
   "execution_count": null,
   "metadata": {},
   "outputs": [],
   "source": []
  },
  {
   "cell_type": "code",
   "execution_count": 120,
   "metadata": {},
   "outputs": [
    {
     "name": "stdout",
     "output_type": "stream",
     "text": [
      "<class 'pandas.core.frame.DataFrame'>\n",
      "RangeIndex: 1909 entries, 0 to 1908\n",
      "Data columns (total 7 columns):\n",
      "Company Name    1909 non-null object\n",
      "Ticker          1172 non-null object\n",
      "Market          1895 non-null object\n",
      "Priced Date     1909 non-null datetime64[ns]\n",
      "Price           1698 non-null float64\n",
      "Shares          1698 non-null float64\n",
      "Deal Status     1909 non-null object\n",
      "dtypes: datetime64[ns](1), float64(2), object(4)\n",
      "memory usage: 104.5+ KB\n",
      "None\n"
     ]
    }
   ],
   "source": [
    "print(IPO_data.info())\n",
    "\n",
    "#IPO_data.pd.to_datetime(IPO_data['Priced Date'],infer_datetime_format=True), inplace=True)\n",
    "#IPO_data['Priced Date'] = pd.to_datetime(IPO_data['Priced Date'], format='%m/%d/%Y %I:%M:%S %p')"
   ]
  },
  {
   "cell_type": "code",
   "execution_count": 126,
   "metadata": {},
   "outputs": [
    {
     "data": {
      "text/html": [
       "<div>\n",
       "<style scoped>\n",
       "    .dataframe tbody tr th:only-of-type {\n",
       "        vertical-align: middle;\n",
       "    }\n",
       "\n",
       "    .dataframe tbody tr th {\n",
       "        vertical-align: top;\n",
       "    }\n",
       "\n",
       "    .dataframe thead th {\n",
       "        text-align: right;\n",
       "    }\n",
       "</style>\n",
       "<table border=\"1\" class=\"dataframe\">\n",
       "  <thead>\n",
       "    <tr style=\"text-align: right;\">\n",
       "      <th></th>\n",
       "      <th>Priced Date</th>\n",
       "      <th>Deal Status</th>\n",
       "    </tr>\n",
       "  </thead>\n",
       "  <tbody>\n",
       "    <tr>\n",
       "      <th>0</th>\n",
       "      <td>2019-09-26</td>\n",
       "      <td>Priced</td>\n",
       "    </tr>\n",
       "    <tr>\n",
       "      <th>1</th>\n",
       "      <td>2019-09-26</td>\n",
       "      <td>Priced</td>\n",
       "    </tr>\n",
       "    <tr>\n",
       "      <th>2</th>\n",
       "      <td>2019-09-19</td>\n",
       "      <td>Priced</td>\n",
       "    </tr>\n",
       "    <tr>\n",
       "      <th>3</th>\n",
       "      <td>2019-09-19</td>\n",
       "      <td>Priced</td>\n",
       "    </tr>\n",
       "    <tr>\n",
       "      <th>4</th>\n",
       "      <td>2019-09-19</td>\n",
       "      <td>Priced</td>\n",
       "    </tr>\n",
       "  </tbody>\n",
       "</table>\n",
       "</div>"
      ],
      "text/plain": [
       "  Priced Date Deal Status\n",
       "0  2019-09-26      Priced\n",
       "1  2019-09-26      Priced\n",
       "2  2019-09-19      Priced\n",
       "3  2019-09-19      Priced\n",
       "4  2019-09-19      Priced"
      ]
     },
     "execution_count": 126,
     "metadata": {},
     "output_type": "execute_result"
    }
   ],
   "source": [
    "#Narrow withdrawls by year, filed, & price #count\n",
    "#IPO_data_filtered = IPO_data.loc[:,[ \"Priced Date\"='{:%Y-%m-%d}'.format(datetime.datetime.now(), \"Price\"]]\n",
    "IPO_data_filtered = IPO_data.loc[:,[ 'Priced Date', \"Deal Status\",]]\n",
    "IPO_data_filtered.head()\n",
    "# IPO_data_filtered.head()\n",
    "#IPO_data.iloc[:,['Priced Date', 'Deal Status']]"
   ]
  },
  {
   "cell_type": "code",
   "execution_count": 130,
   "metadata": {},
   "outputs": [
    {
     "data": {
      "text/html": [
       "<div>\n",
       "<style scoped>\n",
       "    .dataframe tbody tr th:only-of-type {\n",
       "        vertical-align: middle;\n",
       "    }\n",
       "\n",
       "    .dataframe tbody tr th {\n",
       "        vertical-align: top;\n",
       "    }\n",
       "\n",
       "    .dataframe thead th {\n",
       "        text-align: right;\n",
       "    }\n",
       "</style>\n",
       "<table border=\"1\" class=\"dataframe\">\n",
       "  <thead>\n",
       "    <tr style=\"text-align: right;\">\n",
       "      <th></th>\n",
       "      <th>Priced Date</th>\n",
       "      <th>Deal Status</th>\n",
       "    </tr>\n",
       "  </thead>\n",
       "  <tbody>\n",
       "    <tr>\n",
       "      <th>1561</th>\n",
       "      <td>2019-09-23</td>\n",
       "      <td>Withdrawn</td>\n",
       "    </tr>\n",
       "    <tr>\n",
       "      <th>1562</th>\n",
       "      <td>2019-09-20</td>\n",
       "      <td>Withdrawn</td>\n",
       "    </tr>\n",
       "    <tr>\n",
       "      <th>1563</th>\n",
       "      <td>2019-09-19</td>\n",
       "      <td>Withdrawn</td>\n",
       "    </tr>\n",
       "    <tr>\n",
       "      <th>1564</th>\n",
       "      <td>2019-09-13</td>\n",
       "      <td>Withdrawn</td>\n",
       "    </tr>\n",
       "    <tr>\n",
       "      <th>1565</th>\n",
       "      <td>2019-09-12</td>\n",
       "      <td>Withdrawn</td>\n",
       "    </tr>\n",
       "  </tbody>\n",
       "</table>\n",
       "</div>"
      ],
      "text/plain": [
       "     Priced Date Deal Status\n",
       "1561  2019-09-23   Withdrawn\n",
       "1562  2019-09-20   Withdrawn\n",
       "1563  2019-09-19   Withdrawn\n",
       "1564  2019-09-13   Withdrawn\n",
       "1565  2019-09-12   Withdrawn"
      ]
     },
     "execution_count": 130,
     "metadata": {},
     "output_type": "execute_result"
    }
   ],
   "source": [
    "IPO_withdrawn = IPO_data_filtered[IPO_data_filtered[\"Deal Status\"] ==\"Withdrawn\"]\n"
   ]
  },
  {
   "cell_type": "code",
   "execution_count": 138,
   "metadata": {},
   "outputs": [
    {
     "data": {
      "text/plain": [
       "<hvplot.hvPlot at 0x24c23f20828>"
      ]
     },
     "execution_count": 138,
     "metadata": {},
     "output_type": "execute_result"
    }
   ],
   "source": [
    "#Align count priced of IPO x= months y=number of IPOS \n",
    "#Should see Busiest month...etc\n",
    "\n",
    "IPO_withdrawn.loc[:,[\"Priced Date\", \"Deal Status\"]].hvplot"
   ]
  },
  {
   "cell_type": "code",
   "execution_count": null,
   "metadata": {},
   "outputs": [],
   "source": [
    "#S&P with new lib \n",
    "start_sp = datetime.datetime(2004,1,1)\n",
    "end_sp = datetime.datetime(2019,9,30)\n",
    "sp500 = pdr.get_data_yahoo('^GSPC',start_sp, end_sp)\n",
    "sp500.head(^GSPC)"
   ]
  }
 ],
 "metadata": {
  "kernelspec": {
   "display_name": "Python 3",
   "language": "python",
   "name": "python3"
  },
  "language_info": {
   "codemirror_mode": {
    "name": "ipython",
    "version": 3
   },
   "file_extension": ".py",
   "mimetype": "text/x-python",
   "name": "python",
   "nbconvert_exporter": "python",
   "pygments_lexer": "ipython3",
   "version": "3.7.3"
  }
 },
 "nbformat": 4,
 "nbformat_minor": 4
}
